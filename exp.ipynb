{
 "cells": [
  {
   "cell_type": "code",
   "execution_count": 58,
   "metadata": {},
   "outputs": [],
   "source": [
    "import os\n",
    "from langchain.utils import cosine_similarity\n",
    "from langchain_core.output_parsers import StrOutputParser\n",
    "from langchain_core.prompts import PromptTemplate\n",
    "from langchain_core.runnables import RunnablePassthrough, RunnableLambda\n",
    "from langchain_openai import OpenAIEmbeddings\n",
    "from langchain.utils import cosine_similarity\n",
    "from langchain_core.output_parsers import StrOutputParser\n",
    "from langchain_community.utilities import SQLDatabase\n",
    "from langchain_openai import ChatOpenAI\n",
    "from langchain_chroma import Chroma\n",
    "from dotenv import load_dotenv\n",
    "from operator import itemgetter\n",
    "from pydantic import BaseModel\n",
    "from langchain_core.prompts import ChatPromptTemplate, MessagesPlaceholder\n",
    "\n",
    "\n",
    "load_dotenv()\n",
    "os.environ['OPENAPI_API_KEY'] = os.environ.get('OPENAI_API_KEY')\n",
    "\n",
    "######### Data #########\n",
    "mysql_uri = 'mysql+mysqlconnector://root@localhost:3306/nikprod'\n",
    "model = ChatOpenAI(model=\"gpt-3.5-turbo\",temperature=0)\n",
    "db = SQLDatabase.from_uri(mysql_uri )\n",
    "chroma_db = Chroma(persist_directory=\"./chroma_db\", embedding_function=OpenAIEmbeddings())\n",
    "retriver = chroma_db.as_retriever()\n",
    "\n",
    "def get_schema(_):\n",
    "    return db.get_table_info()\n",
    "def run_query(query):\n",
    "    return db.run(query)\n",
    "\n"
   ]
  },
  {
   "cell_type": "code",
   "execution_count": 46,
   "metadata": {},
   "outputs": [
    {
     "data": {
      "text/plain": [
       "ChatPromptTemplate(input_variables=['question'], messages=[HumanMessagePromptTemplate(prompt=PromptTemplate(input_variables=['question'], template='You are good at classifying a question.\\n    Given the user question below, classify the question as either begin about \"Database\" or \"Chat\".\\n    <If the question is like these sample than its a \\'Database\\' question>\\n    SAMPLE:\\n    Can you list all the products available in the database?\"\\n    \"What is the price of the product with ID 123?\"\\n    \"How many units of the product named \\'Shower Head Model X\\' are in stock?\"\\n    \"Show me the details of the product with the SKU \\'ABCD1234\\'.\"\\n    \"Which products were added to the database in the last month?\"]\\n    \"How many different types of shower heads do we have?\"\\n    \"Can you fetch the product names and prices for all products in the \\'Premium\\' category?\"\\n    \"What are the dimensions of the \\'Eco Shower System\\'?\"\\n    \"How many reviews does the product \\'Rain Shower XL\\' have?\"\\n    \"What is the average rating of the product \\'Eco-Friendly Shower\\'?\"\\n    \"How many products are currently out of stock?\"\\n    \"List all the products that are on sale.\"\\n    \"What are the specifications of the product with ID 456?\"\\n    \"Which products have a discount greater than 20%?\"\\n    \"What are the top 5 best-selling products?\"\\n    \"How many products are there in the \\'Luxury\\' category?\"\\n    \"Fetch the supplier details for the product \\'High-Pressure Shower Head\\'.\"\\n    \"What is the reorder level for the product \\'Compact Shower System\\'?\"\\n    \"List all the products with a 5-star rating.\"\\n    \"Show me all products that were discontinued last year.\"\\n    \"What is the manufacturing date of the product with SKU \\'EFG5678\\'?\"\\n    \"Can you provide a summary of the latest product additions to the database?\"\\n    \"What are the shipping details for the product \\'Dual Shower System\\'?\"\\n    \"List all products that have received customer complaints.\"\\n    \"What is the return policy for the product \\'Adjustable Shower Arm\\'?\"\\n    \"How many products are supplied by \\'Nikles Manufacturing\\'?\"\\n    \"Fetch the inventory levels for all products in the \\'Economy\\' range.\"\\n    \"What are the dimensions and weight of the \\'Ultra-Thin Shower Head\\'?\"\\n    \"How many units of \\'Deluxe Shower Kit\\' were sold last month?\"\\n    \"What is the customer feedback for the product \\'Thermostatic Shower Mixer\\'?\"\\n    \"List all products that require special installation services.\"\\n    \"What is the lead time for the product \\'Handheld Shower Wand\\'?\"\\n    \"Can you show the sales trends for the product \\'Luxury Rain Shower\\' over the past year?\"\\n    <If the question is about warrenty or Nikles company products or other, then its a \\'Chat\\' topic>\\n    question: {question}\\n    Classification:\\n'))])"
      ]
     },
     "execution_count": 46,
     "metadata": {},
     "output_type": "execute_result"
    }
   ],
   "source": [
    "with open('data/topic.txt',encoding='utf8') as f:\n",
    "    lines = f.readlines()\n",
    "template = \"\"\"\n",
    "\"\"\"\n",
    "prompt = ChatPromptTemplate.from_template(template)\n",
    "prompt\n",
    "\n"
   ]
  },
  {
   "cell_type": "code",
   "execution_count": 59,
   "metadata": {},
   "outputs": [],
   "source": [
    "system=\"\"\"\n",
    "You are good at classifying a question.\n",
    "    Given the user question below, classify the question as either begin about \"Database\" or \"Chat\".\n",
    "    <If the question is like these sample than its a 'Database' question>\n",
    "    SAMPLE:\n",
    "    Can you list all the products available in the database?\"\n",
    "    \"What is the price of the product with ID 123?\"\n",
    "    \"How many units of the product named 'Shower Head Model X' are in stock?\"\n",
    "    \"Show me the details of the product with the SKU 'ABCD1234'.\"\n",
    "    \"Which products were added to the database in the last month?\"]\n",
    "    \"How many different types of shower heads do we have?\"\n",
    "    \"Can you fetch the product names and prices for all products in the 'Premium' category?\"\n",
    "    \"What are the dimensions of the 'Eco Shower System'?\"\n",
    "    \"How many reviews does the product 'Rain Shower XL' have?\"\n",
    "    \"What is the average rating of the product 'Eco-Friendly Shower'?\"\n",
    "    \"How many products are currently out of stock?\"\n",
    "    \"List all the products that are on sale.\"\n",
    "    \"What are the specifications of the product with ID 456?\"\n",
    "    \"Which products have a discount greater than 20%?\"\n",
    "    \"What are the top 5 best-selling products?\"\n",
    "    \"How many products are there in the 'Luxury' category?\"\n",
    "    \"Fetch the supplier details for the product 'High-Pressure Shower Head'.\"\n",
    "    \"What is the reorder level for the product 'Compact Shower System'?\"\n",
    "    \"List all the products with a 5-star rating.\"\n",
    "    \"Show me all products that were discontinued last year.\"\n",
    "    \"What is the manufacturing date of the product with SKU 'EFG5678'?\"\n",
    "    \"Can you provide a summary of the latest product additions to the database?\"\n",
    "    \"What are the shipping details for the product 'Dual Shower System'?\"\n",
    "    \"List all products that have received customer complaints.\"\n",
    "    \"What is the return policy for the product 'Adjustable Shower Arm'?\"\n",
    "    \"How many products are supplied by 'Nikles Manufacturing'?\"\n",
    "    \"Fetch the inventory levels for all products in the 'Economy' range.\"\n",
    "    \"What are the dimensions and weight of the 'Ultra-Thin Shower Head'?\"\n",
    "    \"How many units of 'Deluxe Shower Kit' were sold last month?\"\n",
    "    \"What is the customer feedback for the product 'Thermostatic Shower Mixer'?\"\n",
    "    \"List all products that require special installation services.\"\n",
    "    \"What is the lead time for the product 'Handheld Shower Wand'?\"\n",
    "    \"Can you show the sales trends for the product 'Luxury Rain Shower' over the past year?\"\n",
    "    <If the question is about warrenty or Nikles company products or other, then its a 'Chat' topic>\n",
    "    \n",
    "    Classification:\n",
    "\"\"\"\n",
    "prompt = ChatPromptTemplate.from_messages(\n",
    "    [\n",
    "        (\n",
    "            \"system\",\n",
    "           system,\n",
    "        ),\n",
    "        MessagesPlaceholder(variable_name=\"messages\"),\n",
    "    ]\n",
    ")\n",
    "\n",
    "chain = prompt | model | StrOutputParser\n"
   ]
  },
  {
   "cell_type": "code",
   "execution_count": null,
   "metadata": {},
   "outputs": [],
   "source": [
    "res = chain.invoke({\"messages\":[\"what is nikles?\"]})\n"
   ]
  },
  {
   "cell_type": "code",
   "execution_count": 67,
   "metadata": {},
   "outputs": [],
   "source": [
    "\n",
    "classification_template = PromptTemplate.from_template(\n",
    "    \"\"\"\n",
    "    Given the user question below, classify the question as either begin about \"Database\" or \"Chat\".\n",
    "    <If the question is like these sample than its a 'Database' question>\n",
    "    SAMPLE:\n",
    "    Can you list all the products available in the database?\"\n",
    "    \"What is the price of the product with ID 123?\"\n",
    "    \"How many units of the product named 'Shower Head Model X' are in stock?\"\n",
    "    \"Show me the details of the product with the SKU 'ABCD1234'.\"\n",
    "    \"Which products were added to the database in the last month?\"]\n",
    "    \"How many different types of shower heads do we have?\"\n",
    "    \"Can you fetch the product names and prices for all products in the 'Premium' category?\"\n",
    "    \"What are the dimensions of the 'Eco Shower System'?\"\n",
    "    \"How many reviews does the product 'Rain Shower XL' have?\"\n",
    "    \"What is the average rating of the product 'Eco-Friendly Shower'?\"\n",
    "    \"How many products are currently out of stock?\"\n",
    "    \"List all the products that are on sale.\"\n",
    "    \"What are the specifications of the product with ID 456?\"\n",
    "    \"Which products have a discount greater than 20%?\"\n",
    "    \"What are the top 5 best-selling products?\"\n",
    "    \"How many products are there in the 'Luxury' category?\"\n",
    "    \"Fetch the supplier details for the product 'High-Pressure Shower Head'.\"\n",
    "    \"What is the reorder level for the product 'Compact Shower System'?\"\n",
    "    \"List all the products with a 5-star rating.\"\n",
    "    \"Show me all products that were discontinued last year.\"\n",
    "    \"What is the manufacturing date of the product with SKU 'EFG5678'?\"\n",
    "    \"Can you provide a summary of the latest product additions to the database?\"\n",
    "    \"What are the shipping details for the product 'Dual Shower System'?\"\n",
    "    \"List all products that have received customer complaints.\"\n",
    "    \"What is the return policy for the product 'Adjustable Shower Arm'?\"\n",
    "    \"How many products are supplied by 'Nikles Manufacturing'?\"\n",
    "    \"Fetch the inventory levels for all products in the 'Economy' range.\"\n",
    "    \"What are the dimensions and weight of the 'Ultra-Thin Shower Head'?\"\n",
    "    \"How many units of 'Deluxe Shower Kit' were sold last month?\"\n",
    "    \"What is the customer feedback for the product 'Thermostatic Shower Mixer'?\"\n",
    "    \"List all products that require special installation services.\"\n",
    "    \"What is the lead time for the product 'Handheld Shower Wand'?\"\n",
    "    \"Can you show the sales trends for the product 'Luxury Rain Shower' over the past year?\"\n",
    "    <If the question is about warrenty or Nikles company products or other, then its a 'Chat' topic>\n",
    "    \n",
    "    <question>\n",
    "    {question}\n",
    "    Classification:\n",
    "    </question>\n",
    "\n",
    "    Classification:\"\"\"\n",
    ")\n",
    "\n",
    "classification_chain = classification_template | ChatOpenAI() | StrOutputParser()"
   ]
  },
  {
   "cell_type": "code",
   "execution_count": 69,
   "metadata": {},
   "outputs": [
    {
     "data": {
      "text/plain": [
       "'Chat'"
      ]
     },
     "execution_count": 69,
     "metadata": {},
     "output_type": "execute_result"
    }
   ],
   "source": [
    "classification_chain.invoke({\"question\":\"how Good Nikles\"})"
   ]
  },
  {
   "cell_type": "code",
   "execution_count": 57,
   "metadata": {},
   "outputs": [
    {
     "ename": "KeyError",
     "evalue": "\"Input to ChatPromptTemplate is missing variables {'question'}.  Expected: ['question'] Received: ['query']\"",
     "output_type": "error",
     "traceback": [
      "\u001b[1;31m---------------------------------------------------------------------------\u001b[0m",
      "\u001b[1;31mKeyError\u001b[0m                                  Traceback (most recent call last)",
      "Cell \u001b[1;32mIn[57], line 1\u001b[0m\n\u001b[1;32m----> 1\u001b[0m res \u001b[38;5;241m=\u001b[39m \u001b[43mll1\u001b[49m\u001b[38;5;241;43m.\u001b[39;49m\u001b[43minvoke\u001b[49m\u001b[43m(\u001b[49m\u001b[38;5;124;43m\"\u001b[39;49m\u001b[38;5;124;43mwhat is nikles?\u001b[39;49m\u001b[38;5;124;43m\"\u001b[39;49m\u001b[43m)\u001b[49m\n",
      "File \u001b[1;32mc:\\Users\\BS01216\\AppData\\Local\\Programs\\Python\\Python311\\Lib\\site-packages\\langchain_core\\runnables\\base.py:2399\u001b[0m, in \u001b[0;36mRunnableSequence.invoke\u001b[1;34m(self, input, config)\u001b[0m\n\u001b[0;32m   2397\u001b[0m \u001b[38;5;28;01mtry\u001b[39;00m:\n\u001b[0;32m   2398\u001b[0m     \u001b[38;5;28;01mfor\u001b[39;00m i, step \u001b[38;5;129;01min\u001b[39;00m \u001b[38;5;28menumerate\u001b[39m(\u001b[38;5;28mself\u001b[39m\u001b[38;5;241m.\u001b[39msteps):\n\u001b[1;32m-> 2399\u001b[0m         \u001b[38;5;28minput\u001b[39m \u001b[38;5;241m=\u001b[39m \u001b[43mstep\u001b[49m\u001b[38;5;241;43m.\u001b[39;49m\u001b[43minvoke\u001b[49m\u001b[43m(\u001b[49m\n\u001b[0;32m   2400\u001b[0m \u001b[43m            \u001b[49m\u001b[38;5;28;43minput\u001b[39;49m\u001b[43m,\u001b[49m\n\u001b[0;32m   2401\u001b[0m \u001b[43m            \u001b[49m\u001b[38;5;66;43;03m# mark each step as a child run\u001b[39;49;00m\n\u001b[0;32m   2402\u001b[0m \u001b[43m            \u001b[49m\u001b[43mpatch_config\u001b[49m\u001b[43m(\u001b[49m\n\u001b[0;32m   2403\u001b[0m \u001b[43m                \u001b[49m\u001b[43mconfig\u001b[49m\u001b[43m,\u001b[49m\u001b[43m \u001b[49m\u001b[43mcallbacks\u001b[49m\u001b[38;5;241;43m=\u001b[39;49m\u001b[43mrun_manager\u001b[49m\u001b[38;5;241;43m.\u001b[39;49m\u001b[43mget_child\u001b[49m\u001b[43m(\u001b[49m\u001b[38;5;124;43mf\u001b[39;49m\u001b[38;5;124;43m\"\u001b[39;49m\u001b[38;5;124;43mseq:step:\u001b[39;49m\u001b[38;5;132;43;01m{\u001b[39;49;00m\u001b[43mi\u001b[49m\u001b[38;5;241;43m+\u001b[39;49m\u001b[38;5;241;43m1\u001b[39;49m\u001b[38;5;132;43;01m}\u001b[39;49;00m\u001b[38;5;124;43m\"\u001b[39;49m\u001b[43m)\u001b[49m\n\u001b[0;32m   2404\u001b[0m \u001b[43m            \u001b[49m\u001b[43m)\u001b[49m\u001b[43m,\u001b[49m\n\u001b[0;32m   2405\u001b[0m \u001b[43m        \u001b[49m\u001b[43m)\u001b[49m\n\u001b[0;32m   2406\u001b[0m \u001b[38;5;66;03m# finish the root run\u001b[39;00m\n\u001b[0;32m   2407\u001b[0m \u001b[38;5;28;01mexcept\u001b[39;00m \u001b[38;5;167;01mBaseException\u001b[39;00m \u001b[38;5;28;01mas\u001b[39;00m e:\n",
      "File \u001b[1;32mc:\\Users\\BS01216\\AppData\\Local\\Programs\\Python\\Python311\\Lib\\site-packages\\langchain_core\\prompts\\base.py:128\u001b[0m, in \u001b[0;36mBasePromptTemplate.invoke\u001b[1;34m(self, input, config)\u001b[0m\n\u001b[0;32m    126\u001b[0m \u001b[38;5;28;01mif\u001b[39;00m \u001b[38;5;28mself\u001b[39m\u001b[38;5;241m.\u001b[39mtags:\n\u001b[0;32m    127\u001b[0m     config[\u001b[38;5;124m\"\u001b[39m\u001b[38;5;124mtags\u001b[39m\u001b[38;5;124m\"\u001b[39m] \u001b[38;5;241m=\u001b[39m config[\u001b[38;5;124m\"\u001b[39m\u001b[38;5;124mtags\u001b[39m\u001b[38;5;124m\"\u001b[39m] \u001b[38;5;241m+\u001b[39m \u001b[38;5;28mself\u001b[39m\u001b[38;5;241m.\u001b[39mtags\n\u001b[1;32m--> 128\u001b[0m \u001b[38;5;28;01mreturn\u001b[39;00m \u001b[38;5;28;43mself\u001b[39;49m\u001b[38;5;241;43m.\u001b[39;49m\u001b[43m_call_with_config\u001b[49m\u001b[43m(\u001b[49m\n\u001b[0;32m    129\u001b[0m \u001b[43m    \u001b[49m\u001b[38;5;28;43mself\u001b[39;49m\u001b[38;5;241;43m.\u001b[39;49m\u001b[43m_format_prompt_with_error_handling\u001b[49m\u001b[43m,\u001b[49m\n\u001b[0;32m    130\u001b[0m \u001b[43m    \u001b[49m\u001b[38;5;28;43minput\u001b[39;49m\u001b[43m,\u001b[49m\n\u001b[0;32m    131\u001b[0m \u001b[43m    \u001b[49m\u001b[43mconfig\u001b[49m\u001b[43m,\u001b[49m\n\u001b[0;32m    132\u001b[0m \u001b[43m    \u001b[49m\u001b[43mrun_type\u001b[49m\u001b[38;5;241;43m=\u001b[39;49m\u001b[38;5;124;43m\"\u001b[39;49m\u001b[38;5;124;43mprompt\u001b[39;49m\u001b[38;5;124;43m\"\u001b[39;49m\u001b[43m,\u001b[49m\n\u001b[0;32m    133\u001b[0m \u001b[43m\u001b[49m\u001b[43m)\u001b[49m\n",
      "File \u001b[1;32mc:\\Users\\BS01216\\AppData\\Local\\Programs\\Python\\Python311\\Lib\\site-packages\\langchain_core\\runnables\\base.py:1509\u001b[0m, in \u001b[0;36mRunnable._call_with_config\u001b[1;34m(self, func, input, config, run_type, **kwargs)\u001b[0m\n\u001b[0;32m   1505\u001b[0m     context \u001b[38;5;241m=\u001b[39m copy_context()\n\u001b[0;32m   1506\u001b[0m     context\u001b[38;5;241m.\u001b[39mrun(_set_config_context, child_config)\n\u001b[0;32m   1507\u001b[0m     output \u001b[38;5;241m=\u001b[39m cast(\n\u001b[0;32m   1508\u001b[0m         Output,\n\u001b[1;32m-> 1509\u001b[0m         \u001b[43mcontext\u001b[49m\u001b[38;5;241;43m.\u001b[39;49m\u001b[43mrun\u001b[49m\u001b[43m(\u001b[49m\n\u001b[0;32m   1510\u001b[0m \u001b[43m            \u001b[49m\u001b[43mcall_func_with_variable_args\u001b[49m\u001b[43m,\u001b[49m\u001b[43m  \u001b[49m\u001b[38;5;66;43;03m# type: ignore[arg-type]\u001b[39;49;00m\n\u001b[0;32m   1511\u001b[0m \u001b[43m            \u001b[49m\u001b[43mfunc\u001b[49m\u001b[43m,\u001b[49m\u001b[43m  \u001b[49m\u001b[38;5;66;43;03m# type: ignore[arg-type]\u001b[39;49;00m\n\u001b[0;32m   1512\u001b[0m \u001b[43m            \u001b[49m\u001b[38;5;28;43minput\u001b[39;49m\u001b[43m,\u001b[49m\u001b[43m  \u001b[49m\u001b[38;5;66;43;03m# type: ignore[arg-type]\u001b[39;49;00m\n\u001b[0;32m   1513\u001b[0m \u001b[43m            \u001b[49m\u001b[43mconfig\u001b[49m\u001b[43m,\u001b[49m\n\u001b[0;32m   1514\u001b[0m \u001b[43m            \u001b[49m\u001b[43mrun_manager\u001b[49m\u001b[43m,\u001b[49m\n\u001b[0;32m   1515\u001b[0m \u001b[43m            \u001b[49m\u001b[38;5;241;43m*\u001b[39;49m\u001b[38;5;241;43m*\u001b[39;49m\u001b[43mkwargs\u001b[49m\u001b[43m,\u001b[49m\n\u001b[0;32m   1516\u001b[0m \u001b[43m        \u001b[49m\u001b[43m)\u001b[49m,\n\u001b[0;32m   1517\u001b[0m     )\n\u001b[0;32m   1518\u001b[0m \u001b[38;5;28;01mexcept\u001b[39;00m \u001b[38;5;167;01mBaseException\u001b[39;00m \u001b[38;5;28;01mas\u001b[39;00m e:\n\u001b[0;32m   1519\u001b[0m     run_manager\u001b[38;5;241m.\u001b[39mon_chain_error(e)\n",
      "File \u001b[1;32mc:\\Users\\BS01216\\AppData\\Local\\Programs\\Python\\Python311\\Lib\\site-packages\\langchain_core\\runnables\\config.py:365\u001b[0m, in \u001b[0;36mcall_func_with_variable_args\u001b[1;34m(func, input, config, run_manager, **kwargs)\u001b[0m\n\u001b[0;32m    363\u001b[0m \u001b[38;5;28;01mif\u001b[39;00m run_manager \u001b[38;5;129;01mis\u001b[39;00m \u001b[38;5;129;01mnot\u001b[39;00m \u001b[38;5;28;01mNone\u001b[39;00m \u001b[38;5;129;01mand\u001b[39;00m accepts_run_manager(func):\n\u001b[0;32m    364\u001b[0m     kwargs[\u001b[38;5;124m\"\u001b[39m\u001b[38;5;124mrun_manager\u001b[39m\u001b[38;5;124m\"\u001b[39m] \u001b[38;5;241m=\u001b[39m run_manager\n\u001b[1;32m--> 365\u001b[0m \u001b[38;5;28;01mreturn\u001b[39;00m \u001b[43mfunc\u001b[49m\u001b[43m(\u001b[49m\u001b[38;5;28;43minput\u001b[39;49m\u001b[43m,\u001b[49m\u001b[43m \u001b[49m\u001b[38;5;241;43m*\u001b[39;49m\u001b[38;5;241;43m*\u001b[39;49m\u001b[43mkwargs\u001b[49m\u001b[43m)\u001b[49m\n",
      "File \u001b[1;32mc:\\Users\\BS01216\\AppData\\Local\\Programs\\Python\\Python311\\Lib\\site-packages\\langchain_core\\prompts\\base.py:111\u001b[0m, in \u001b[0;36mBasePromptTemplate._format_prompt_with_error_handling\u001b[1;34m(self, inner_input)\u001b[0m\n\u001b[0;32m    110\u001b[0m \u001b[38;5;28;01mdef\u001b[39;00m \u001b[38;5;21m_format_prompt_with_error_handling\u001b[39m(\u001b[38;5;28mself\u001b[39m, inner_input: Dict) \u001b[38;5;241m-\u001b[39m\u001b[38;5;241m>\u001b[39m PromptValue:\n\u001b[1;32m--> 111\u001b[0m     _inner_input \u001b[38;5;241m=\u001b[39m \u001b[38;5;28;43mself\u001b[39;49m\u001b[38;5;241;43m.\u001b[39;49m\u001b[43m_validate_input\u001b[49m\u001b[43m(\u001b[49m\u001b[43minner_input\u001b[49m\u001b[43m)\u001b[49m\n\u001b[0;32m    112\u001b[0m     \u001b[38;5;28;01mreturn\u001b[39;00m \u001b[38;5;28mself\u001b[39m\u001b[38;5;241m.\u001b[39mformat_prompt(\u001b[38;5;241m*\u001b[39m\u001b[38;5;241m*\u001b[39m_inner_input)\n",
      "File \u001b[1;32mc:\\Users\\BS01216\\AppData\\Local\\Programs\\Python\\Python311\\Lib\\site-packages\\langchain_core\\prompts\\base.py:103\u001b[0m, in \u001b[0;36mBasePromptTemplate._validate_input\u001b[1;34m(self, inner_input)\u001b[0m\n\u001b[0;32m    101\u001b[0m missing \u001b[38;5;241m=\u001b[39m \u001b[38;5;28mset\u001b[39m(\u001b[38;5;28mself\u001b[39m\u001b[38;5;241m.\u001b[39minput_variables)\u001b[38;5;241m.\u001b[39mdifference(inner_input)\n\u001b[0;32m    102\u001b[0m \u001b[38;5;28;01mif\u001b[39;00m missing:\n\u001b[1;32m--> 103\u001b[0m     \u001b[38;5;28;01mraise\u001b[39;00m \u001b[38;5;167;01mKeyError\u001b[39;00m(\n\u001b[0;32m    104\u001b[0m         \u001b[38;5;124mf\u001b[39m\u001b[38;5;124m\"\u001b[39m\u001b[38;5;124mInput to \u001b[39m\u001b[38;5;132;01m{\u001b[39;00m\u001b[38;5;28mself\u001b[39m\u001b[38;5;241m.\u001b[39m\u001b[38;5;18m__class__\u001b[39m\u001b[38;5;241m.\u001b[39m\u001b[38;5;18m__name__\u001b[39m\u001b[38;5;132;01m}\u001b[39;00m\u001b[38;5;124m is missing variables \u001b[39m\u001b[38;5;132;01m{\u001b[39;00mmissing\u001b[38;5;132;01m}\u001b[39;00m\u001b[38;5;124m. \u001b[39m\u001b[38;5;124m\"\u001b[39m\n\u001b[0;32m    105\u001b[0m         \u001b[38;5;124mf\u001b[39m\u001b[38;5;124m\"\u001b[39m\u001b[38;5;124m Expected: \u001b[39m\u001b[38;5;132;01m{\u001b[39;00m\u001b[38;5;28mself\u001b[39m\u001b[38;5;241m.\u001b[39minput_variables\u001b[38;5;132;01m}\u001b[39;00m\u001b[38;5;124m\"\u001b[39m\n\u001b[0;32m    106\u001b[0m         \u001b[38;5;124mf\u001b[39m\u001b[38;5;124m\"\u001b[39m\u001b[38;5;124m Received: \u001b[39m\u001b[38;5;132;01m{\u001b[39;00m\u001b[38;5;28mlist\u001b[39m(inner_input\u001b[38;5;241m.\u001b[39mkeys())\u001b[38;5;132;01m}\u001b[39;00m\u001b[38;5;124m\"\u001b[39m\n\u001b[0;32m    107\u001b[0m     )\n\u001b[0;32m    108\u001b[0m \u001b[38;5;28;01mreturn\u001b[39;00m inner_input\n",
      "\u001b[1;31mKeyError\u001b[0m: \"Input to ChatPromptTemplate is missing variables {'question'}.  Expected: ['question'] Received: ['query']\""
     ]
    }
   ],
   "source": [
    "prompt = ChatPromptTemplate.from_messages(\n",
    "    [\n",
    "        (\n",
    "            \"system\",\n",
    "            \"You are a helpful assistant. Answer all questions to the best of your ability.\",\n",
    "        ),\n",
    "        MessagesPlaceholder(variable_name=\"messages\"),\n",
    "    ]\n",
    ")\n"
   ]
  },
  {
   "cell_type": "code",
   "execution_count": null,
   "metadata": {},
   "outputs": [],
   "source": []
  }
 ],
 "metadata": {
  "kernelspec": {
   "display_name": "Python 3",
   "language": "python",
   "name": "python3"
  },
  "language_info": {
   "codemirror_mode": {
    "name": "ipython",
    "version": 3
   },
   "file_extension": ".py",
   "mimetype": "text/x-python",
   "name": "python",
   "nbconvert_exporter": "python",
   "pygments_lexer": "ipython3",
   "version": "3.11.9"
  }
 },
 "nbformat": 4,
 "nbformat_minor": 2
}
